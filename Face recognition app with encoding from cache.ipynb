{
 "cells": [
  {
   "cell_type": "code",
   "execution_count": null,
   "id": "7ea090d5",
   "metadata": {},
   "outputs": [],
   "source": [
    "!pip install opencv-python\n",
    "!pip install cmake\n",
    "!pip install dlib\n",
    "!pip install face_recognition\n",
    "!pip install tensorflow"
   ]
  },
  {
   "cell_type": "code",
   "execution_count": 2,
   "id": "8bb5c799",
   "metadata": {},
   "outputs": [],
   "source": [
    "import cv2\n",
    "import numpy as np\n",
    "import face_recognition\n",
    "import os"
   ]
  },
  {
   "cell_type": "code",
   "execution_count": 3,
   "id": "091d8188",
   "metadata": {},
   "outputs": [
    {
     "name": "stdout",
     "output_type": "stream",
     "text": [
      "['Anouar', 'elon', 'houdhayfa', 'mdm marwa', 'moufida', 'oumayma', 'RAJA', 'sarra']\n"
     ]
    }
   ],
   "source": [
    "path = 'C:/Users/rjabj/Desktop/projects/DONE/Projet FACE-RECOGNITION-APP/data'\n",
    "images = []\n",
    "classNames = []\n",
    "personsList = os.listdir(path)\n",
    "\n",
    "for cl in personsList:\n",
    "    curPersonn = cv2.imread(f'{path}/{cl}')\n",
    "    images.append(curPersonn)\n",
    "    classNames.append(os.path.splitext(cl)[0])\n",
    "print(classNames)"
   ]
  },
  {
   "cell_type": "code",
   "execution_count": 4,
   "id": "085e31e7",
   "metadata": {},
   "outputs": [],
   "source": [
    "def findEncodeings(image):\n",
    "    encodeList = []\n",
    "    for img in images:\n",
    "        img = cv2.cvtColor(img, cv2.COLOR_BGR2RGB)\n",
    "        encode = face_recognition.face_encodings(img)[0]\n",
    "        encodeList.append(encode)\n",
    "    return encodeList"
   ]
  },
  {
   "cell_type": "code",
   "execution_count": 5,
   "id": "a0e479d3",
   "metadata": {},
   "outputs": [
    {
     "name": "stdout",
     "output_type": "stream",
     "text": [
      "Encoding Complete.\n"
     ]
    }
   ],
   "source": [
    "encodeListKnown = findEncodeings(images)\n",
    "print('Encoding Complete.')\n",
    "cap = cv2.VideoCapture(0)"
   ]
  },
  {
   "cell_type": "code",
   "execution_count": null,
   "id": "21fb389b",
   "metadata": {},
   "outputs": [],
   "source": [
    "\n",
    "while True:\n",
    "    _, img = cap.read()\n",
    "\n",
    "    imgS = cv2.resize(img, (0,0), None, 0.25, 0.25)\n",
    "    imgS = cv2.cvtColor(imgS, cv2.COLOR_BGR2RGB)\n",
    "\n",
    "    faceCurentFrame = face_recognition.face_locations(imgS)\n",
    "    encodeCurentFrame = face_recognition.face_encodings(imgS, faceCurentFrame)\n",
    "\n",
    "    for encodeface, faceLoc in zip(encodeCurentFrame, faceCurentFrame):\n",
    "        matches = face_recognition.compare_faces(encodeListKnown, encodeface)\n",
    "        faceDis = face_recognition.face_distance(encodeListKnown, encodeface)\n",
    "        matchIndex = np.argmin(faceDis)\n",
    "\n",
    "        if matches[matchIndex]:\n",
    "            name = classNames[matchIndex].upper()\n",
    "            print(name)\n",
    "            y1, x2, y2, x1 = faceLoc\n",
    "            y1, x2, y2, x1 = y1*4, x2*4, y2*4, x1*4\n",
    "            cv2.rectangle(img, (x1, y1), (x2, y2), (0,0,255), 2)\n",
    "            cv2.rectangle(img, (x1,y2-35), (x2,y2), (0,0,255), cv2.FILLED)\n",
    "            cv2.putText(img, name, (x1+6, y2-6), cv2.FONT_HERSHEY_COMPLEX, 1, (255,255,255), 2)\n",
    "        else:\n",
    "            name = \"Unknown\"\n",
    "        \n",
    "    cv2.imshow('Face Recogntion', img)\n",
    "    cv2.waitKey(1)"
   ]
  },
  {
   "cell_type": "code",
   "execution_count": 4,
   "id": "c43b7311",
   "metadata": {},
   "outputs": [
    {
     "name": "stdout",
     "output_type": "stream",
     "text": [
      "Loading encodings from cache...\n",
      "Encoding complete. Starting recognition...\n"
     ]
    }
   ],
   "source": [
    "import cv2\n",
    "import numpy as np\n",
    "import face_recognition\n",
    "import os\n",
    "import pickle\n",
    "\n",
    "# Paths \n",
    "data_path = 'C:/Users/rjabj/Desktop/projects/DONE/Projet FACE-RECOGNITION-APP/data'\n",
    "encodings_file = 'encodings.pickle'\n",
    "\n",
    "# Load known faces & encodings \n",
    "def load_or_create_encodings(path, enc_file):\n",
    "    classNames = []\n",
    "    encodeList = []\n",
    "\n",
    "    if os.path.exists(enc_file):\n",
    "        print(\"Loading encodings from cache...\")\n",
    "        with open(enc_file, 'rb') as f:\n",
    "            encodeList, classNames = pickle.load(f)\n",
    "    else:\n",
    "        print(\"No cache found. Encoding images...\")\n",
    "        images = []\n",
    "        personsList = os.listdir(path)\n",
    "\n",
    "        for cl in personsList:\n",
    "            img_path = os.path.join(path, cl)\n",
    "            curImg = cv2.imread(img_path)\n",
    "            if curImg is not None:\n",
    "                images.append(curImg)\n",
    "                classNames.append(os.path.splitext(cl)[0])\n",
    "\n",
    "        for img in images:\n",
    "            img_rgb = cv2.cvtColor(img, cv2.COLOR_BGR2RGB)\n",
    "            encodings = face_recognition.face_encodings(img_rgb)\n",
    "            if encodings:\n",
    "                encodeList.append(encodings[0])\n",
    "\n",
    "        # Save to cache\n",
    "        with open(enc_file, 'wb') as f:\n",
    "            pickle.dump((encodeList, classNames), f)\n",
    "        print(\"Encodings saved to cache.\")\n",
    "\n",
    "    return encodeList, classNames\n",
    "\n",
    "# Load or compute encodings\n",
    "encodeListKnown, classNames = load_or_create_encodings(data_path, encodings_file)\n",
    "print(\"Encoding complete. Starting recognition...\")\n",
    "\n",
    "# Start webcam \n",
    "cap = cv2.VideoCapture(0)\n",
    "frame_count = 0\n",
    "process_every_n_frames = 5\n",
    "recognized_faces = []\n",
    "\n",
    "while True:\n",
    "    success, frame = cap.read()\n",
    "    if not success:\n",
    "        break\n",
    "\n",
    "    small_frame = cv2.resize(frame, (0, 0), fx=0.25, fy=0.25)\n",
    "    rgb_small_frame = cv2.cvtColor(small_frame, cv2.COLOR_BGR2RGB)\n",
    "\n",
    "    if frame_count % process_every_n_frames == 0:\n",
    "        face_locations = face_recognition.face_locations(rgb_small_frame)\n",
    "        face_encodings = face_recognition.face_encodings(rgb_small_frame, face_locations)\n",
    "\n",
    "        recognized_faces = []\n",
    "\n",
    "        for encodeFace, faceLoc in zip(face_encodings, face_locations):\n",
    "            matches = face_recognition.compare_faces(encodeListKnown, encodeFace)\n",
    "            faceDis = face_recognition.face_distance(encodeListKnown, encodeFace)\n",
    "\n",
    "            if faceDis.size > 0:\n",
    "                matchIndex = np.argmin(faceDis)\n",
    "                if matches[matchIndex]:\n",
    "                    name = classNames[matchIndex].upper()\n",
    "                else:\n",
    "                    name = \"Unknown\"\n",
    "                recognized_faces.append((name, faceLoc))\n",
    "\n",
    "    for name, faceLoc in recognized_faces:\n",
    "        y1, x2, y2, x1 = [val * 4 for val in faceLoc]\n",
    "        cv2.rectangle(frame, (x1, y1), (x2, y2), (0, 255, 0), 2)\n",
    "        cv2.rectangle(frame, (x1, y2 - 35), (x2, y2), (0, 255, 0), cv2.FILLED)\n",
    "        cv2.putText(frame, name, (x1 + 6, y2 - 6),\n",
    "                    cv2.FONT_HERSHEY_DUPLEX, 1, (255, 255, 255), 2)\n",
    "\n",
    "    cv2.imshow('Face Recognition (with Cache)', frame)\n",
    "    frame_count += 1\n",
    "\n",
    "    if cv2.waitKey(1) & 0xFF == ord('q'):\n",
    "        break\n",
    "\n",
    "cap.release()\n",
    "cv2.destroyAllWindows()\n"
   ]
  },
  {
   "cell_type": "code",
   "execution_count": null,
   "id": "40ed32cd",
   "metadata": {},
   "outputs": [],
   "source": []
  }
 ],
 "metadata": {
  "kernelspec": {
   "display_name": "Python 3 (ipykernel)",
   "language": "python",
   "name": "python3"
  },
  "language_info": {
   "codemirror_mode": {
    "name": "ipython",
    "version": 3
   },
   "file_extension": ".py",
   "mimetype": "text/x-python",
   "name": "python",
   "nbconvert_exporter": "python",
   "pygments_lexer": "ipython3",
   "version": "3.9.13"
  }
 },
 "nbformat": 4,
 "nbformat_minor": 5
}
